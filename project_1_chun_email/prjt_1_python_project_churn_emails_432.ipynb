{
 "cells": [
  {
   "cell_type": "markdown",
   "metadata": {
    "collapsed": true
   },
   "source": [
    "## Python Project - Churn Emails - Dataset\n",
    "We have a text file which records mail activity from various individuals in an open source project development team. Below is the file location\n",
    "\n",
    "These files are in a standard format for a file containing multiple mail messages. The lines which start with \"From \" separate the messages and the lines which start with \"From:\" are part of the messages. For more information about the mbox format, please see this wikipedia article\n",
    "\n",
    "1. Define a function number_of_lines\n",
    "2. Open the file mbox-short.txt which is located at /cxldata/datasets/project/mbox-short.txt\n",
    "3. Read the file into one string by using read method on file handle\n",
    "4. Write logic to count the number of lines\n",
    "5. Return the count of the number of lines"
   ]
  },
  {
   "cell_type": "code",
   "execution_count": 1,
   "metadata": {},
   "outputs": [
    {
     "data": {
      "text/plain": [
       "1910"
      ]
     },
     "execution_count": 1,
     "metadata": {},
     "output_type": "execute_result"
    }
   ],
   "source": [
    "def number_of_lines():\n",
    "    fhand = open('/cxldata/datasets/project/mbox-short.txt')\n",
    "    inp = fhand.read()\n",
    "    fhand.close()\n",
    "    count=len(inp.splitlines())\n",
    "    return count\n",
    "number_of_lines()"
   ]
  },
  {
   "cell_type": "markdown",
   "metadata": {},
   "source": [
    "## Count the Number of Subject Lines\n",
    "We use the string method startswith to select only those lines with the desired prefix.\n",
    "\n",
    "The below code prints the lines starting with From:"
   ]
  },
  {
   "cell_type": "markdown",
   "metadata": {},
   "source": [
    "Write a function count_number_of_lines which returns the count of the number of lines starting with Subject: in the file /cxldata/datasets/project/mbox-short.txt"
   ]
  },
  {
   "cell_type": "code",
   "execution_count": 4,
   "metadata": {},
   "outputs": [
    {
     "data": {
      "text/plain": [
       "27"
      ]
     },
     "execution_count": 4,
     "metadata": {},
     "output_type": "execute_result"
    }
   ],
   "source": [
    "def count_number_of_lines():\n",
    "    fhand = open('/cxldata/datasets/project/mbox-short.txt')\n",
    "    count = 0\n",
    "    for line in fhand:\n",
    "        line = line.rstrip()\n",
    "        if line.startswith('Subject:'):\n",
    "            count=count+1\n",
    "    return count\n",
    "count_number_of_lines()"
   ]
  },
  {
   "cell_type": "markdown",
   "metadata": {},
   "source": [
    "## Find Average Spam Confidence\n",
    "In the previous exercise, we saw a couple of examples of startswith. Let's do one more hands-on with startswith"
   ]
  },
  {
   "cell_type": "markdown",
   "metadata": {},
   "source": [
    "1. Define a function average_spam_confidence which calculates the average spam confidence and returns it\n",
    "2. Open the file mbox-short.txt which is located at /cxldata/datasets/project/mbox-short.txt\n",
    "3. Loop through the file handle\n",
    "4. Select only those lines starts with X-DSPAM-Confidence:\n",
    "5. Split the lines at : and take the float value which is spam confidence\n",
    "6. Find the average of this spam confidence in the entire file and return it."
   ]
  },
  {
   "cell_type": "code",
   "execution_count": 8,
   "metadata": {},
   "outputs": [
    {
     "data": {
      "text/plain": [
       "0.7507185185185187"
      ]
     },
     "execution_count": 8,
     "metadata": {},
     "output_type": "execute_result"
    }
   ],
   "source": [
    "def average_spam_confidence():\n",
    "    fhand = open('/cxldata/datasets/project/mbox-short.txt')\n",
    "    count = 0\n",
    "    sumt = 0\n",
    "    for line in fhand:\n",
    "        line = line.rstrip()\n",
    "        if line.startswith('X-DSPAM-Confidence:'):\n",
    "            count=count+1\n",
    "            var,num = line.split(':')\n",
    "            sumt = sumt+float(num)\n",
    "            avg = sumt/count\n",
    "    return (avg)\n",
    "average_spam_confidence()"
   ]
  },
  {
   "cell_type": "markdown",
   "metadata": {},
   "source": [
    "## Find Which Day of the Week the Email was sent\n",
    "Write a function find_email_sent_days which reads the file /cxldata/datasets/project/mbox-short.txt and categorizes each mail message by which day of the week the email was sent.\n",
    "\n",
    "To do this do the following:\n",
    "\n",
    "1. Open the file and read it line by line\n",
    "2. Look for lines that start with \"From\"\n",
    "3. For those lines which start from \"From\", then look for the third word and keep a running count of each of the days of the week. How do you find the day of the week, is an exercise for you.\n"
   ]
  },
  {
   "cell_type": "code",
   "execution_count": 11,
   "metadata": {},
   "outputs": [
    {
     "data": {
      "text/plain": [
       "{'Sat': 1, 'Fri': 20, 'Thu': 6}"
      ]
     },
     "execution_count": 11,
     "metadata": {},
     "output_type": "execute_result"
    }
   ],
   "source": [
    "def find_email_sent_days():\n",
    "    fhandle = open('/cxldata/datasets/project/mbox-short.txt')\n",
    "    count = dict()\n",
    "    \n",
    "    for line in fhandle:\n",
    "        line = line.strip()\n",
    "        if line.startswith('From') and not line.startswith('From:'):\n",
    "            var = line.split()\n",
    "            days = var[2]\n",
    "            count[days] = count.get(days,0) + 1\n",
    "    return (count)\n",
    "find_email_sent_days() "
   ]
  },
  {
   "cell_type": "markdown",
   "metadata": {},
   "source": [
    "## Count Number of Messages From Each Email Address\n",
    "Write a function count_message_from_email which reads the file /cxldata/datasets/project/mbox-short.txt.\n",
    "\n",
    "This function builds a histogram using a dictionary to count how many messages have come from each email address and returns the dictionary."
   ]
  },
  {
   "cell_type": "code",
   "execution_count": 23,
   "metadata": {},
   "outputs": [
    {
     "data": {
      "text/plain": [
       "{'stephen.marquard@uct.ac.za': 2,\n",
       " 'louis@media.berkeley.edu': 3,\n",
       " 'zqian@umich.edu': 4,\n",
       " 'rjlowe@iupui.edu': 2,\n",
       " 'cwen@iupui.edu': 5,\n",
       " 'gsilver@umich.edu': 3,\n",
       " 'wagnermr@iupui.edu': 1,\n",
       " 'antranig@caret.cam.ac.uk': 1,\n",
       " 'gopal.ramasammycook@gmail.com': 1,\n",
       " 'david.horwitz@uct.ac.za': 4,\n",
       " 'ray@media.berkeley.edu': 1}"
      ]
     },
     "execution_count": 23,
     "metadata": {},
     "output_type": "execute_result"
    }
   ],
   "source": [
    "def count_message_from_email():\n",
    "    fhand = open('/cxldata/datasets/project/mbox-short.txt')\n",
    "    ecount={}\n",
    "    for line in fhand:\n",
    "        if line.startswith('From:') and '@' in line:\n",
    "            sp=line.split()\n",
    "            email=sp[1]\n",
    "            ecount[email]=ecount.get(email,0)+1\n",
    "    return ecount\n",
    "\n",
    "count_message_from_email()\n",
    "                \n"
   ]
  },
  {
   "cell_type": "markdown",
   "metadata": {},
   "source": [
    "## Count Number of Messages From Each Domain\n",
    "Write a function count_message_from_domain which reads the file /cxldata/datasets/project/mbox-short.txt.\n",
    "\n",
    "This function builds a histogram using a dictionary to count how many messages have come from each domain(Instead of from email address), and returns the dictionary."
   ]
  },
  {
   "cell_type": "code",
   "execution_count": 29,
   "metadata": {},
   "outputs": [],
   "source": [
    "def count_message_from_domain():\n",
    "    dictionary={}\n",
    "    with open('/cxldata/datasets/project/mbox-short.txt')as f:\n",
    "        for item in f:\n",
    "            item=item.rstrip()\n",
    "            if item.startswith('From'):\n",
    "                lines=item.split(' ')\n",
    "                if(len(lines)>3):\n",
    "                    user,domain=lines[1].split('@')\n",
    "                    dictionary[domain]=dictionary.get(domain,0)+1\n",
    "    return dictionary"
   ]
  },
  {
   "cell_type": "code",
   "execution_count": 30,
   "metadata": {},
   "outputs": [
    {
     "data": {
      "text/plain": [
       "{'uct.ac.za': 6,\n",
       " 'media.berkeley.edu': 4,\n",
       " 'umich.edu': 7,\n",
       " 'iupui.edu': 8,\n",
       " 'caret.cam.ac.uk': 1,\n",
       " 'gmail.com': 1}"
      ]
     },
     "execution_count": 30,
     "metadata": {},
     "output_type": "execute_result"
    }
   ],
   "source": [
    "count_message_from_domain()"
   ]
  },
  {
   "cell_type": "code",
   "execution_count": null,
   "metadata": {},
   "outputs": [],
   "source": []
  }
 ],
 "metadata": {
  "kernelspec": {
   "display_name": "Python 3",
   "language": "python",
   "name": "python3"
  },
  "language_info": {
   "codemirror_mode": {
    "name": "ipython",
    "version": 3
   },
   "file_extension": ".py",
   "mimetype": "text/x-python",
   "name": "python",
   "nbconvert_exporter": "python",
   "pygments_lexer": "ipython3",
   "version": "3.6.8"
  },
  "toc": {
   "base_numbering": 1,
   "nav_menu": {},
   "number_sections": true,
   "sideBar": true,
   "skip_h1_title": false,
   "title_cell": "Table of Contents",
   "title_sidebar": "Contents",
   "toc_cell": false,
   "toc_position": {},
   "toc_section_display": true,
   "toc_window_display": false
  }
 },
 "nbformat": 4,
 "nbformat_minor": 2
}
